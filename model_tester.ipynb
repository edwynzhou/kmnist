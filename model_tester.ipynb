{
 "cells": [
  {
   "cell_type": "code",
   "execution_count": 6,
   "metadata": {},
   "outputs": [],
   "source": [
    "# \"KMNIST Dataset\" (created by CODH), adapted from \"Kuzushiji Dataset\" (created by NIJL and others), doi:10.20676/00000341\n",
    "# Modified by Edwyn Zhou (Revision 2)\n",
    "# Sep. 13 2024\n",
    "import torch\n",
    "from torch import nn\n",
    "from torch.utils.data import DataLoader\n",
    "from torchvision import datasets\n",
    "from torchvision.transforms import ToTensor\n",
    "from matplotlib import pyplot as plt"
   ]
  },
  {
   "cell_type": "code",
   "execution_count": 7,
   "metadata": {},
   "outputs": [],
   "source": [
    "# Download training data from open datasets.\n",
    "training_data = datasets.KMNIST(\n",
    "    root=\"data\",\n",
    "    train=True,\n",
    "    download=True,\n",
    "    transform=ToTensor(),\n",
    ")\n",
    "\n",
    "# Download test data from open datasets.\n",
    "test_data = datasets.KMNIST(\n",
    "    root=\"data\",\n",
    "    train=False,\n",
    "    download=True,\n",
    "    transform=ToTensor(),\n",
    ")"
   ]
  },
  {
   "cell_type": "code",
   "execution_count": 8,
   "metadata": {},
   "outputs": [
    {
     "name": "stdout",
     "output_type": "stream",
     "text": [
      "Using cuda device\n",
      "NeuralNetwork(\n",
      "  (flatten): Flatten(start_dim=1, end_dim=-1)\n",
      "  (linear_relu_stack): Sequential(\n",
      "    (0): Linear(in_features=784, out_features=512, bias=True)\n",
      "    (1): ReLU()\n",
      "    (2): Linear(in_features=512, out_features=512, bias=True)\n",
      "    (3): ReLU()\n",
      "    (4): Linear(in_features=512, out_features=10, bias=True)\n",
      "  )\n",
      ")\n"
     ]
    }
   ],
   "source": [
    "# Get cpu, gpu or mps device for training.\n",
    "device = (\n",
    "    \"cuda\"\n",
    "    if torch.cuda.is_available()\n",
    "    else \"mps\"\n",
    "    if torch.backends.mps.is_available()\n",
    "    else \"cpu\"\n",
    ")\n",
    "print(f\"Using {device} device\")\n",
    "\n",
    "# Define model\n",
    "class NeuralNetwork(nn.Module):\n",
    "    def __init__(self):\n",
    "        super().__init__()\n",
    "        self.flatten = nn.Flatten()\n",
    "        self.linear_relu_stack = nn.Sequential(\n",
    "            nn.Linear(28*28, 512),\n",
    "            nn.ReLU(),\n",
    "            nn.Linear(512, 512),\n",
    "            nn.ReLU(),\n",
    "            nn.Linear(512, 10)\n",
    "        )\n",
    "\n",
    "    def forward(self, x):\n",
    "        x = self.flatten(x)\n",
    "        logits = self.linear_relu_stack(x)\n",
    "        return logits\n",
    "\n",
    "model = NeuralNetwork().to(device)\n",
    "print(model)"
   ]
  },
  {
   "cell_type": "code",
   "execution_count": 9,
   "metadata": {},
   "outputs": [
    {
     "data": {
      "text/plain": [
       "<All keys matched successfully>"
      ]
     },
     "execution_count": 9,
     "metadata": {},
     "output_type": "execute_result"
    }
   ],
   "source": [
    "# Load model\n",
    "model = NeuralNetwork().to(device)\n",
    "model.load_state_dict(torch.load(\"modelAdam.pth\", weights_only=True))"
   ]
  },
  {
   "cell_type": "code",
   "execution_count": 10,
   "metadata": {},
   "outputs": [
    {
     "name": "stdout",
     "output_type": "stream",
     "text": [
      "Predicted: \"s-\", Actual: \"s-\"\n"
     ]
    }
   ],
   "source": [
    "classes = [\n",
    "    \"o-\",\n",
    "    \"k-\",\n",
    "    \"s-\",\n",
    "    \"t-\",\n",
    "    \"n-\",\n",
    "    \"h-\",\n",
    "    \"m-\",\n",
    "    \"y-\",\n",
    "    \"r-\",\n",
    "    \"w-\",\n",
    "]\n",
    "\n",
    "labels_map = {\n",
    "    0: \"o-\",\n",
    "    1: \"k-\",\n",
    "    2: \"s-\",\n",
    "    3: \"t-\",\n",
    "    4: \"n-\",\n",
    "    5: \"h-\",\n",
    "    6: \"m-\",\n",
    "    7: \"y-\",\n",
    "    8: \"r-\",\n",
    "    9: \"w-\",\n",
    "}\n",
    "\n",
    "# figure = plt.figure(figsize=(8, 8))\n",
    "# cols, rows = 3, 3\n",
    "# for i in range(1, cols * rows + 1):\n",
    "#     sample_idx = torch.randint(len(training_data), size=(1,)).item()\n",
    "#     img, label = training_data[sample_idx]\n",
    "#     figure.add_subplot(rows, cols, i)\n",
    "#     plt.title(labels_map[label])\n",
    "#     plt.axis(\"off\")\n",
    "#     plt.imshow(img.squeeze(), cmap=\"gray\")\n",
    "# plt.show()\n",
    "\n",
    "model.eval()\n",
    "for i in range(1):\n",
    "    x, y = test_data[i][0], test_data[i][1]\n",
    "    with torch.no_grad():\n",
    "        x = x.to(device)\n",
    "        pred = model(x)\n",
    "        predicted, actual = classes[pred[0].argmax(0)], classes[y]\n",
    "        print(f'Predicted: \"{predicted}\", Actual: \"{actual}\"')"
   ]
  }
 ],
 "metadata": {
  "kernelspec": {
   "display_name": "Python 3",
   "language": "python",
   "name": "python3"
  },
  "language_info": {
   "codemirror_mode": {
    "name": "ipython",
    "version": 3
   },
   "file_extension": ".py",
   "mimetype": "text/x-python",
   "name": "python",
   "nbconvert_exporter": "python",
   "pygments_lexer": "ipython3",
   "version": "3.11.7"
  }
 },
 "nbformat": 4,
 "nbformat_minor": 2
}
